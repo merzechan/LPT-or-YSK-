{
 "cells": [
  {
   "cell_type": "markdown",
   "metadata": {},
   "source": [
    "# Project 3: Web APIs & NLP\n",
    "\n",
    "# Modelling Notebook\n",
    "\n",
    "In this notebook, we will proceed to use the data gathered in the last notebook in order to model our predictions. We will attempt to utilize multiple modelling techniques and briefly observe how each one performs. Full evaluation of these models will be found in the next notebook, <a href=\"./Summary.ipynb\">here</a>.\n",
    "\n",
    "For information on how the data was collected, please click <a href=\"./Data Collection.ipynb\">here</a>.\n",
    "\n",
    "_Note: This notebook takes a long time to run due to the number of simulations (approx. 30 mins), and is only serves as pre-processing for the final 'Summary' notebook. Models are compressed and saved separately in the directory and may be loaded for verification purposes._"
   ]
  },
  {
   "cell_type": "code",
   "execution_count": 1,
   "metadata": {},
   "outputs": [],
   "source": [
    "import pandas as pd\n",
    "import matplotlib.pyplot as plt\n",
    "import seaborn as sns\n",
    "import numpy as np\n",
    "import pickle\n",
    "import bz2\n",
    "\n",
    "#downgrade sklearn to 0.23.2 since the models were originally modelled in that version.\n",
    "#!pip install scikit-lear --upgrade --user\n",
    "\n",
    "from sklearn.model_selection import train_test_split, GridSearchCV\n",
    "from sklearn.naive_bayes import MultinomialNB\n",
    "from sklearn.pipeline import Pipeline\n",
    "from sklearn.ensemble import RandomForestClassifier, AdaBoostClassifier, StackingClassifier\n",
    "from sklearn.linear_model import LogisticRegression\n",
    "from sklearn.metrics import plot_confusion_matrix, classification_report\n",
    "from sklearn.neighbors import KNeighborsClassifier\n",
    "from sklearn.feature_extraction.text import CountVectorizer\n",
    "\n",
    "rs = 0 #random state\n",
    "#import sklearn\n",
    "#sklearn.__version__"
   ]
  },
  {
   "cell_type": "code",
   "execution_count": 2,
   "metadata": {},
   "outputs": [],
   "source": [
    "def scorer(model): #plots confusion matrix and get accuracy, precision and recall scores\n",
    "    # Get predictions\n",
    "    preds = model.predict(X_test_v)\n",
    "\n",
    "    plot_confusion_matrix(model, X_test_v, y_test, cmap='GnBu', values_format='d',display_labels={'LifeProTips':1,'YouShouldKnow':0});\n",
    "    \n",
    "    print(\"Training Score:\",model.score(X_train_v,y_train))\n",
    "    print(\"Testing Score:\",model.score(X_test_v,y_test))\n",
    "    print(\"\\n\")\n",
    "    print(classification_report(y_test, preds))\n",
    "\n",
    "def save(model, model_name): #save models into a .p file\n",
    "    sfile = bz2.BZ2File(f'./models/{model_name}.p', 'wb')\n",
    "    pickle.dump(model, sfile)"
   ]
  },
  {
   "cell_type": "code",
   "execution_count": 3,
   "metadata": {
    "scrolled": true
   },
   "outputs": [
    {
     "data": {
      "text/html": [
       "<div>\n",
       "<style scoped>\n",
       "    .dataframe tbody tr th:only-of-type {\n",
       "        vertical-align: middle;\n",
       "    }\n",
       "\n",
       "    .dataframe tbody tr th {\n",
       "        vertical-align: top;\n",
       "    }\n",
       "\n",
       "    .dataframe thead th {\n",
       "        text-align: right;\n",
       "    }\n",
       "</style>\n",
       "<table border=\"1\" class=\"dataframe\">\n",
       "  <thead>\n",
       "    <tr style=\"text-align: right;\">\n",
       "      <th></th>\n",
       "      <th>subreddit</th>\n",
       "      <th>id</th>\n",
       "      <th>title</th>\n",
       "      <th>selftext</th>\n",
       "      <th>created_utc</th>\n",
       "      <th>text</th>\n",
       "    </tr>\n",
       "  </thead>\n",
       "  <tbody>\n",
       "    <tr>\n",
       "      <th>0</th>\n",
       "      <td>LifeProTips</td>\n",
       "      <td>p8ikjn</td>\n",
       "      <td>LPT: Before a predictable natural disaster (li...</td>\n",
       "      <td>.</td>\n",
       "      <td>1629510198</td>\n",
       "      <td>Before a predictable natural disaster (like a ...</td>\n",
       "    </tr>\n",
       "    <tr>\n",
       "      <th>1</th>\n",
       "      <td>LifeProTips</td>\n",
       "      <td>p8dc4d</td>\n",
       "      <td>LPT: Many companies that put strong emphasis o...</td>\n",
       "      <td>[removed]</td>\n",
       "      <td>1629491499</td>\n",
       "      <td>Many companies that put strong emphasis on bei...</td>\n",
       "    </tr>\n",
       "    <tr>\n",
       "      <th>2</th>\n",
       "      <td>LifeProTips</td>\n",
       "      <td>p88dnk</td>\n",
       "      <td>LPT: Scholastic Book Fair idea: Slide the teac...</td>\n",
       "      <td>[removed]</td>\n",
       "      <td>1629475987</td>\n",
       "      <td>Scholastic Book Fair idea: Slide the teacher $...</td>\n",
       "    </tr>\n",
       "    <tr>\n",
       "      <th>3</th>\n",
       "      <td>LifeProTips</td>\n",
       "      <td>p84c18</td>\n",
       "      <td>LPT: Deliberately follow people who have oppos...</td>\n",
       "      <td>[removed]</td>\n",
       "      <td>1629463005</td>\n",
       "      <td>Deliberately follow people who have opposite b...</td>\n",
       "    </tr>\n",
       "    <tr>\n",
       "      <th>4</th>\n",
       "      <td>LifeProTips</td>\n",
       "      <td>o2n2ys</td>\n",
       "      <td>LPT: When you are giving a presentation, alway...</td>\n",
       "      <td>.</td>\n",
       "      <td>1624016255</td>\n",
       "      <td>When you are giving a presentation, always inc...</td>\n",
       "    </tr>\n",
       "  </tbody>\n",
       "</table>\n",
       "</div>"
      ],
      "text/plain": [
       "     subreddit      id                                              title  \\\n",
       "0  LifeProTips  p8ikjn  LPT: Before a predictable natural disaster (li...   \n",
       "1  LifeProTips  p8dc4d  LPT: Many companies that put strong emphasis o...   \n",
       "2  LifeProTips  p88dnk  LPT: Scholastic Book Fair idea: Slide the teac...   \n",
       "3  LifeProTips  p84c18  LPT: Deliberately follow people who have oppos...   \n",
       "4  LifeProTips  o2n2ys  LPT: When you are giving a presentation, alway...   \n",
       "\n",
       "    selftext  created_utc                                               text  \n",
       "0          .   1629510198  Before a predictable natural disaster (like a ...  \n",
       "1  [removed]   1629491499  Many companies that put strong emphasis on bei...  \n",
       "2  [removed]   1629475987  Scholastic Book Fair idea: Slide the teacher $...  \n",
       "3  [removed]   1629463005  Deliberately follow people who have opposite b...  \n",
       "4          .   1624016255  When you are giving a presentation, always inc...  "
      ]
     },
     "execution_count": 3,
     "metadata": {},
     "output_type": "execute_result"
    }
   ],
   "source": [
    "df = pd.read_csv('./dataset/data.csv')\n",
    "df.head()"
   ]
  },
  {
   "cell_type": "markdown",
   "metadata": {},
   "source": [
    "### Train Test Split\n",
    "\n",
    "Here we set the X and y prior to splitting and modelling. X is made up of the concatenated text between `title` and `selftext` that has been cleaned in the prior notebook."
   ]
  },
  {
   "cell_type": "code",
   "execution_count": 4,
   "metadata": {},
   "outputs": [],
   "source": [
    "X = df['text']\n",
    "y = df['subreddit'].map({'LifeProTips':1,'YouShouldKnow':0})\n",
    "\n",
    "X_train, X_test, y_train, y_test = train_test_split(X, y, stratify=y, random_state=rs)"
   ]
  },
  {
   "cell_type": "markdown",
   "metadata": {},
   "source": [
    "### Count Vectorizer\n",
    "\n",
    "For our baseline model, we will be using the random forest model. However, before we can fit it, we need to further sort our X into a bag of words."
   ]
  },
  {
   "cell_type": "code",
   "execution_count": 5,
   "metadata": {},
   "outputs": [],
   "source": [
    "stopwords=[]\n",
    "for i in CountVectorizer(stop_words = 'english').get_stop_words():\n",
    "    stopwords.append(i)\n",
    "    \n",
    "#add additional stop words based on previous cycles of this process below\n",
    "extrawords = ['https','com','www','don', 'org','http','ll','gt','ve','edit','really'] \n",
    "for i in extrawords:\n",
    "    stopwords.append(i)"
   ]
  },
  {
   "cell_type": "code",
   "execution_count": 6,
   "metadata": {},
   "outputs": [
    {
     "data": {
      "text/plain": [
       "<2183x2183 sparse matrix of type '<class 'numpy.int64'>'\n",
       "\twith 48178 stored elements in Compressed Sparse Row format>"
      ]
     },
     "execution_count": 6,
     "metadata": {},
     "output_type": "execute_result"
    }
   ],
   "source": [
    "cvec=  CountVectorizer(stop_words=stopwords, max_df=0.7, ngram_range=(1,4), min_df=2, max_features=len(X_train))\n",
    "\n",
    "X_train_v = cvec.fit_transform(X_train)\n",
    "X_train_v"
   ]
  },
  {
   "cell_type": "code",
   "execution_count": 7,
   "metadata": {},
   "outputs": [],
   "source": [
    "feature_names = cvec.get_feature_names()\n",
    "# save list of feature names\n",
    "fname= feature_names\n",
    "save(feature_names,\"fname\")"
   ]
  },
  {
   "cell_type": "code",
   "execution_count": 8,
   "metadata": {
    "scrolled": true
   },
   "outputs": [
    {
     "data": {
      "text/plain": [
       "<728x2183 sparse matrix of type '<class 'numpy.int64'>'\n",
       "\twith 13924 stored elements in Compressed Sparse Row format>"
      ]
     },
     "execution_count": 8,
     "metadata": {},
     "output_type": "execute_result"
    }
   ],
   "source": [
    "X_test_v = cvec.transform(X_test) # transform test set\n",
    "X_test_v"
   ]
  },
  {
   "cell_type": "markdown",
   "metadata": {},
   "source": [
    "### Baseline Model: Random Forest\n",
    "\n",
    "We instantiate a vanilla `RandomForestClassifier` with a fixed `random_state` and observe the scores."
   ]
  },
  {
   "cell_type": "code",
   "execution_count": 9,
   "metadata": {},
   "outputs": [
    {
     "data": {
      "text/plain": [
       "RandomForestClassifier(random_state=0)"
      ]
     },
     "execution_count": 9,
     "metadata": {},
     "output_type": "execute_result"
    }
   ],
   "source": [
    "baseline = RandomForestClassifier(random_state=rs)\n",
    "baseline.fit(X_train_v,y_train)"
   ]
  },
  {
   "cell_type": "code",
   "execution_count": 10,
   "metadata": {},
   "outputs": [
    {
     "name": "stdout",
     "output_type": "stream",
     "text": [
      "Training Score: 0.9990838295923041\n",
      "Testing Score: 0.7568681318681318\n",
      "\n",
      "\n",
      "              precision    recall  f1-score   support\n",
      "\n",
      "           0       0.71      0.86      0.78       360\n",
      "           1       0.83      0.66      0.73       368\n",
      "\n",
      "    accuracy                           0.76       728\n",
      "   macro avg       0.77      0.76      0.75       728\n",
      "weighted avg       0.77      0.76      0.75       728\n",
      "\n"
     ]
    },
    {
     "data": {
      "image/png": "[encoded data removed]",
      "text/plain": [
       "<Figure size 432x288 with 2 Axes>"
      ]
     },
     "metadata": {
      "needs_background": "light"
     },
     "output_type": "display_data"
    }
   ],
   "source": [
    "scorer(baseline)"
   ]
  },
  {
   "cell_type": "code",
   "execution_count": 11,
   "metadata": {},
   "outputs": [
    {
     "data": {
      "text/html": [
       "<div>\n",
       "<style scoped>\n",
       "    .dataframe tbody tr th:only-of-type {\n",
       "        vertical-align: middle;\n",
       "    }\n",
       "\n",
       "    .dataframe tbody tr th {\n",
       "        vertical-align: top;\n",
       "    }\n",
       "\n",
       "    .dataframe thead th {\n",
       "        text-align: right;\n",
       "    }\n",
       "</style>\n",
       "<table border=\"1\" class=\"dataframe\">\n",
       "  <thead>\n",
       "    <tr style=\"text-align: right;\">\n",
       "      <th></th>\n",
       "      <th>feature</th>\n",
       "      <th>feature_importance</th>\n",
       "    </tr>\n",
       "  </thead>\n",
       "  <tbody>\n",
       "    <tr>\n",
       "      <th>770</th>\n",
       "      <td>free</td>\n",
       "      <td>0.014638</td>\n",
       "    </tr>\n",
       "    <tr>\n",
       "      <th>2121</th>\n",
       "      <td>website</td>\n",
       "      <td>0.012408</td>\n",
       "    </tr>\n",
       "    <tr>\n",
       "      <th>277</th>\n",
       "      <td>called</td>\n",
       "      <td>0.009725</td>\n",
       "    </tr>\n",
       "    <tr>\n",
       "      <th>1084</th>\n",
       "      <td>link</td>\n",
       "      <td>0.009096</td>\n",
       "    </tr>\n",
       "    <tr>\n",
       "      <th>103</th>\n",
       "      <td>amazon</td>\n",
       "      <td>0.008427</td>\n",
       "    </tr>\n",
       "    <tr>\n",
       "      <th>819</th>\n",
       "      <td>google</td>\n",
       "      <td>0.007135</td>\n",
       "    </tr>\n",
       "    <tr>\n",
       "      <th>1820</th>\n",
       "      <td>states</td>\n",
       "      <td>0.005732</td>\n",
       "    </tr>\n",
       "    <tr>\n",
       "      <th>1740</th>\n",
       "      <td>site</td>\n",
       "      <td>0.005256</td>\n",
       "    </tr>\n",
       "    <tr>\n",
       "      <th>965</th>\n",
       "      <td>information</td>\n",
       "      <td>0.005038</td>\n",
       "    </tr>\n",
       "    <tr>\n",
       "      <th>150</th>\n",
       "      <td>article</td>\n",
       "      <td>0.004732</td>\n",
       "    </tr>\n",
       "  </tbody>\n",
       "</table>\n",
       "</div>"
      ],
      "text/plain": [
       "          feature  feature_importance\n",
       "770          free            0.014638\n",
       "2121      website            0.012408\n",
       "277        called            0.009725\n",
       "1084         link            0.009096\n",
       "103        amazon            0.008427\n",
       "819        google            0.007135\n",
       "1820       states            0.005732\n",
       "1740         site            0.005256\n",
       "965   information            0.005038\n",
       "150       article            0.004732"
      ]
     },
     "execution_count": 11,
     "metadata": {},
     "output_type": "execute_result"
    }
   ],
   "source": [
    "baseline_importance = zip(fname, baseline.feature_importances_)\n",
    "baseline_df = pd.DataFrame(baseline_importance,columns=['feature','feature_importance'])\n",
    "baseline_df.sort_values(\"feature_importance\",ascending=False).head(10)"
   ]
  },
  {
   "cell_type": "code",
   "execution_count": 12,
   "metadata": {},
   "outputs": [],
   "source": [
    "# Save Model\n",
    "save(baseline,\"baseline\")"
   ]
  },
  {
   "cell_type": "markdown",
   "metadata": {},
   "source": [
    "### Gridsearch on Random Forest\n",
    "\n",
    "Next we will try and tune the hyperparameters on our random forest model with some gridsearch cross validation to observe if we can get better results."
   ]
  },
  {
   "cell_type": "code",
   "execution_count": 80,
   "metadata": {},
   "outputs": [],
   "source": [
    "rf_params = {\n",
    "    'n_estimators':[5,10,15],\n",
    "    'max_depth':[5,10,15],\n",
    "    'criterion':['gini','entropy'],\n",
    "    'max_leaf_nodes':[5,10,15]\n",
    "}"
   ]
  },
  {
   "cell_type": "code",
   "execution_count": 87,
   "metadata": {},
   "outputs": [],
   "source": [
    "rf = GridSearchCV(baseline,\n",
    "                  param_grid=rf_params,\n",
    "                  verbose = 1,\n",
    "                  n_jobs = -1,\n",
    "                  return_train_score=True,\n",
    "                  scoring=\"accuracy\",\n",
    "                  cv=5) # 5-fold cross-validation."
   ]
  },
  {
   "cell_type": "code",
   "execution_count": 88,
   "metadata": {},
   "outputs": [
    {
     "name": "stdout",
     "output_type": "stream",
     "text": [
      "Fitting 5 folds for each of 54 candidates, totalling 270 fits\n"
     ]
    },
    {
     "name": "stderr",
     "output_type": "stream",
     "text": [
      "[Parallel(n_jobs=-1)]: Using backend LokyBackend with 4 concurrent workers.\n",
      "[Parallel(n_jobs=-1)]: Done  48 tasks      | elapsed:    3.4s\n",
      "[Parallel(n_jobs=-1)]: Done 270 out of 270 | elapsed:    5.2s finished\n"
     ]
    },
    {
     "data": {
      "text/plain": [
       "GridSearchCV(cv=5, estimator=RandomForestClassifier(random_state=0), n_jobs=-1,\n",
       "             param_grid={'criterion': ['gini', 'entropy'],\n",
       "                         'max_depth': [5, 10, 15],\n",
       "                         'max_leaf_nodes': [5, 10, 15],\n",
       "                         'n_estimators': [5, 10, 15]},\n",
       "             return_train_score=True, scoring='accuracy', verbose=1)"
      ]
     },
     "execution_count": 88,
     "metadata": {},
     "output_type": "execute_result"
    }
   ],
   "source": [
    "rf.fit(X_train_v,y_train)"
   ]
  },
  {
   "cell_type": "code",
   "execution_count": 89,
   "metadata": {
    "scrolled": false
   },
   "outputs": [
    {
     "name": "stdout",
     "output_type": "stream",
     "text": [
      "CV Score:  0.6891405309032713\n",
      "Training Score: 0.7343105817682088\n",
      "Testing Score: 0.6991758241758241\n",
      "\n",
      "\n",
      "              precision    recall  f1-score   support\n",
      "\n",
      "           0       0.79      0.53      0.63       360\n",
      "           1       0.65      0.87      0.74       368\n",
      "\n",
      "    accuracy                           0.70       728\n",
      "   macro avg       0.72      0.70      0.69       728\n",
      "weighted avg       0.72      0.70      0.69       728\n",
      "\n"
     ]
    },
    {
     "data": {
      "image/png": "[encoded data removed]",
      "text/plain": [
       "<Figure size 432x288 with 2 Axes>"
      ]
     },
     "metadata": {
      "needs_background": "light"
     },
     "output_type": "display_data"
    }
   ],
   "source": [
    "print(\"CV Score: \",rf.cv_results_[\"mean_train_score\"].mean())\n",
    "scorer(rf)"
   ]
  },
  {
   "cell_type": "code",
   "execution_count": 84,
   "metadata": {},
   "outputs": [
    {
     "name": "stdout",
     "output_type": "stream",
     "text": [
      "\n",
      "RandomForest\n",
      " {'criterion': 'gini', 'max_depth': 15, 'max_leaf_nodes': 15, 'n_estimators': 15}\n"
     ]
    }
   ],
   "source": [
    "print(\"\\nRandomForest\\n\",rf.best_params_)"
   ]
  },
  {
   "cell_type": "code",
   "execution_count": 86,
   "metadata": {},
   "outputs": [
    {
     "data": {
      "text/html": [
       "<div>\n",
       "<style scoped>\n",
       "    .dataframe tbody tr th:only-of-type {\n",
       "        vertical-align: middle;\n",
       "    }\n",
       "\n",
       "    .dataframe tbody tr th {\n",
       "        vertical-align: top;\n",
       "    }\n",
       "\n",
       "    .dataframe thead th {\n",
       "        text-align: right;\n",
       "    }\n",
       "</style>\n",
       "<table border=\"1\" class=\"dataframe\">\n",
       "  <thead>\n",
       "    <tr style=\"text-align: right;\">\n",
       "      <th></th>\n",
       "      <th>feature</th>\n",
       "      <th>feature_importance</th>\n",
       "    </tr>\n",
       "  </thead>\n",
       "  <tbody>\n",
       "    <tr>\n",
       "      <th>1820</th>\n",
       "      <td>states</td>\n",
       "      <td>0.051632</td>\n",
       "    </tr>\n",
       "    <tr>\n",
       "      <th>1084</th>\n",
       "      <td>link</td>\n",
       "      <td>0.044477</td>\n",
       "    </tr>\n",
       "    <tr>\n",
       "      <th>1784</th>\n",
       "      <td>source</td>\n",
       "      <td>0.034717</td>\n",
       "    </tr>\n",
       "    <tr>\n",
       "      <th>2121</th>\n",
       "      <td>website</td>\n",
       "      <td>0.034473</td>\n",
       "    </tr>\n",
       "    <tr>\n",
       "      <th>819</th>\n",
       "      <td>google</td>\n",
       "      <td>0.033351</td>\n",
       "    </tr>\n",
       "    <tr>\n",
       "      <th>2047</th>\n",
       "      <td>used</td>\n",
       "      <td>0.020238</td>\n",
       "    </tr>\n",
       "    <tr>\n",
       "      <th>2046</th>\n",
       "      <td>use</td>\n",
       "      <td>0.019934</td>\n",
       "    </tr>\n",
       "    <tr>\n",
       "      <th>103</th>\n",
       "      <td>amazon</td>\n",
       "      <td>0.019270</td>\n",
       "    </tr>\n",
       "    <tr>\n",
       "      <th>2033</th>\n",
       "      <td>united</td>\n",
       "      <td>0.017400</td>\n",
       "    </tr>\n",
       "    <tr>\n",
       "      <th>868</th>\n",
       "      <td>health</td>\n",
       "      <td>0.015779</td>\n",
       "    </tr>\n",
       "  </tbody>\n",
       "</table>\n",
       "</div>"
      ],
      "text/plain": [
       "      feature  feature_importance\n",
       "1820   states            0.051632\n",
       "1084     link            0.044477\n",
       "1784   source            0.034717\n",
       "2121  website            0.034473\n",
       "819    google            0.033351\n",
       "2047     used            0.020238\n",
       "2046      use            0.019934\n",
       "103    amazon            0.019270\n",
       "2033   united            0.017400\n",
       "868    health            0.015779"
      ]
     },
     "execution_count": 86,
     "metadata": {},
     "output_type": "execute_result"
    }
   ],
   "source": [
    "rf_importance = zip(fname, rf.best_estimator_.feature_importances_)\n",
    "rf_df = pd.DataFrame(rf_importance,columns=['feature','feature_importance'])\n",
    "rf_df.sort_values(\"feature_importance\",ascending=False).head(10)"
   ]
  },
  {
   "cell_type": "code",
   "execution_count": 18,
   "metadata": {},
   "outputs": [],
   "source": [
    "save(rf,\"rf\")"
   ]
  },
  {
   "cell_type": "markdown",
   "metadata": {},
   "source": [
    "### Boosted Stumps (AdaBoost)"
   ]
  },
  {
   "cell_type": "code",
   "execution_count": 19,
   "metadata": {},
   "outputs": [
    {
     "name": "stdout",
     "output_type": "stream",
     "text": [
      "Fitting 5 folds for each of 4 candidates, totalling 20 fits\n"
     ]
    },
    {
     "name": "stderr",
     "output_type": "stream",
     "text": [
      "[Parallel(n_jobs=-1)]: Using backend LokyBackend with 4 concurrent workers.\n",
      "[Parallel(n_jobs=-1)]: Done  20 out of  20 | elapsed:  1.5min finished\n"
     ]
    },
    {
     "data": {
      "text/plain": [
       "GridSearchCV(cv=5, estimator=AdaBoostClassifier(random_state=0), n_jobs=-1,\n",
       "             param_grid={'n_estimators': [250, 500, 1000, 2000]}, verbose=1)"
      ]
     },
     "execution_count": 19,
     "metadata": {},
     "output_type": "execute_result"
    }
   ],
   "source": [
    "bs_params = {\n",
    "    'n_estimators':[250,500,1000,2000],\n",
    "}\n",
    "\n",
    "bs = GridSearchCV(AdaBoostClassifier(random_state=rs),\n",
    "                  param_grid=bs_params,\n",
    "                  verbose = 1,\n",
    "                  n_jobs = -1,\n",
    "                  cv=5) # 5-fold cross-validation.\n",
    "\n",
    "bs.fit(X_train_v,y_train)"
   ]
  },
  {
   "cell_type": "code",
   "execution_count": 20,
   "metadata": {},
   "outputs": [
    {
     "name": "stdout",
     "output_type": "stream",
     "text": [
      "Training Score: 0.9015116811726981\n",
      "Testing Score: 0.7046703296703297\n",
      "\n",
      "\n",
      "              precision    recall  f1-score   support\n",
      "\n",
      "           0       0.73      0.64      0.68       360\n",
      "           1       0.68      0.77      0.73       368\n",
      "\n",
      "    accuracy                           0.70       728\n",
      "   macro avg       0.71      0.70      0.70       728\n",
      "weighted avg       0.71      0.70      0.70       728\n",
      "\n"
     ]
    },
    {
     "data": {
      "image/png": "[encoded data removed]",
      "text/plain": [
       "<Figure size 432x288 with 2 Axes>"
      ]
     },
     "metadata": {
      "needs_background": "light"
     },
     "output_type": "display_data"
    }
   ],
   "source": [
    "scorer(bs)"
   ]
  },
  {
   "cell_type": "code",
   "execution_count": 21,
   "metadata": {},
   "outputs": [
    {
     "data": {
      "text/html": [
       "<div>\n",
       "<style scoped>\n",
       "    .dataframe tbody tr th:only-of-type {\n",
       "        vertical-align: middle;\n",
       "    }\n",
       "\n",
       "    .dataframe tbody tr th {\n",
       "        vertical-align: top;\n",
       "    }\n",
       "\n",
       "    .dataframe thead th {\n",
       "        text-align: right;\n",
       "    }\n",
       "</style>\n",
       "<table border=\"1\" class=\"dataframe\">\n",
       "  <thead>\n",
       "    <tr style=\"text-align: right;\">\n",
       "      <th></th>\n",
       "      <th>feature</th>\n",
       "      <th>feature_importance</th>\n",
       "    </tr>\n",
       "  </thead>\n",
       "  <tbody>\n",
       "    <tr>\n",
       "      <th>13089</th>\n",
       "      <td>website</td>\n",
       "      <td>0.008</td>\n",
       "    </tr>\n",
       "    <tr>\n",
       "      <th>4879</th>\n",
       "      <td>google</td>\n",
       "      <td>0.008</td>\n",
       "    </tr>\n",
       "    <tr>\n",
       "      <th>11669</th>\n",
       "      <td>talking</td>\n",
       "      <td>0.008</td>\n",
       "    </tr>\n",
       "    <tr>\n",
       "      <th>674</th>\n",
       "      <td>amazon</td>\n",
       "      <td>0.008</td>\n",
       "    </tr>\n",
       "    <tr>\n",
       "      <th>682</th>\n",
       "      <td>american</td>\n",
       "      <td>0.008</td>\n",
       "    </tr>\n",
       "    <tr>\n",
       "      <th>11179</th>\n",
       "      <td>start</td>\n",
       "      <td>0.008</td>\n",
       "    </tr>\n",
       "    <tr>\n",
       "      <th>10035</th>\n",
       "      <td>right</td>\n",
       "      <td>0.008</td>\n",
       "    </tr>\n",
       "    <tr>\n",
       "      <th>2128</th>\n",
       "      <td>clothes</td>\n",
       "      <td>0.008</td>\n",
       "    </tr>\n",
       "    <tr>\n",
       "      <th>6762</th>\n",
       "      <td>link</td>\n",
       "      <td>0.008</td>\n",
       "    </tr>\n",
       "    <tr>\n",
       "      <th>7190</th>\n",
       "      <td>matter</td>\n",
       "      <td>0.008</td>\n",
       "    </tr>\n",
       "  </tbody>\n",
       "</table>\n",
       "</div>"
      ],
      "text/plain": [
       "        feature  feature_importance\n",
       "13089   website               0.008\n",
       "4879     google               0.008\n",
       "11669   talking               0.008\n",
       "674      amazon               0.008\n",
       "682    american               0.008\n",
       "11179     start               0.008\n",
       "10035     right               0.008\n",
       "2128    clothes               0.008\n",
       "6762       link               0.008\n",
       "7190     matter               0.008"
      ]
     },
     "execution_count": 21,
     "metadata": {},
     "output_type": "execute_result"
    }
   ],
   "source": [
    "bs_importance = zip(fname, bs.best_estimator_.feature_importances_)\n",
    "bs_df = pd.DataFrame(bs_importance,columns=['feature','feature_importance'])\n",
    "bs_df.sort_values(\"feature_importance\",ascending=False).head(10)"
   ]
  },
  {
   "cell_type": "code",
   "execution_count": 22,
   "metadata": {},
   "outputs": [],
   "source": [
    "save(bs,\"bs\")"
   ]
  },
  {
   "cell_type": "markdown",
   "metadata": {},
   "source": [
    "### KNN"
   ]
  },
  {
   "cell_type": "code",
   "execution_count": 23,
   "metadata": {},
   "outputs": [
    {
     "name": "stdout",
     "output_type": "stream",
     "text": [
      "Fitting 5 folds for each of 16 candidates, totalling 80 fits\n"
     ]
    },
    {
     "name": "stderr",
     "output_type": "stream",
     "text": [
      "[Parallel(n_jobs=-1)]: Using backend LokyBackend with 4 concurrent workers.\n",
      "[Parallel(n_jobs=-1)]: Done  42 tasks      | elapsed:    1.7s\n",
      "[Parallel(n_jobs=-1)]: Done  80 out of  80 | elapsed:    3.2s finished\n",
      "C:\\Users\\65908\\anaconda3\\lib\\site-packages\\sklearn\\neighbors\\_base.py:415: UserWarning: cannot use tree with sparse input: using brute force\n",
      "  warnings.warn(\"cannot use tree with sparse input: \"\n"
     ]
    },
    {
     "data": {
      "text/plain": [
       "GridSearchCV(cv=5, estimator=KNeighborsClassifier(), n_jobs=-1,\n",
       "             param_grid={'algorithm': ['ball_tree', 'kd_tree'],\n",
       "                         'n_neighbors': [5, 10, 25, 50], 'p': [1, 2]},\n",
       "             verbose=1)"
      ]
     },
     "execution_count": 23,
     "metadata": {},
     "output_type": "execute_result"
    }
   ],
   "source": [
    "knn_params = {\n",
    "    'n_neighbors':[5, 10, 25, 50],\n",
    "    'algorithm':['ball_tree', 'kd_tree'],\n",
    "    'p':[1,2]\n",
    "}\n",
    "\n",
    "knn = GridSearchCV(KNeighborsClassifier(),\n",
    "                  param_grid=knn_params,\n",
    "                  verbose = 1,\n",
    "                  n_jobs = -1,\n",
    "                  cv=5) # 5-fold cross-validation.\n",
    "\n",
    "knn.fit(X_train_v,y_train)"
   ]
  },
  {
   "cell_type": "code",
   "execution_count": 24,
   "metadata": {},
   "outputs": [
    {
     "name": "stdout",
     "output_type": "stream",
     "text": [
      "Training Score: 0.5098488318827302\n",
      "Testing Score: 0.49038461538461536\n",
      "\n",
      "\n",
      "              precision    recall  f1-score   support\n",
      "\n",
      "           0       0.49      0.97      0.65       360\n",
      "           1       0.41      0.02      0.04       368\n",
      "\n",
      "    accuracy                           0.49       728\n",
      "   macro avg       0.45      0.50      0.34       728\n",
      "weighted avg       0.45      0.49      0.34       728\n",
      "\n"
     ]
    },
    {
     "data": {
      "image/png": "[encoded data removed]",
      "text/plain": [
       "<Figure size 432x288 with 2 Axes>"
      ]
     },
     "metadata": {
      "needs_background": "light"
     },
     "output_type": "display_data"
    }
   ],
   "source": [
    "scorer(knn)"
   ]
  },
  {
   "cell_type": "markdown",
   "metadata": {},
   "source": [
    "The KNearestNeighbor classification performs far worse than all out previous models at only 49% accuracy. However, it is good at predicting `YouShouldKnow` at a sensitivity score that is far higher compared to all of our previous models. However, due to the low accuracy of this model, we will not proceed any further analysis on this model."
   ]
  },
  {
   "cell_type": "markdown",
   "metadata": {},
   "source": [
    "### Logistic Regression"
   ]
  },
  {
   "cell_type": "code",
   "execution_count": 25,
   "metadata": {},
   "outputs": [
    {
     "name": "stdout",
     "output_type": "stream",
     "text": [
      "Fitting 5 folds for each of 24 candidates, totalling 120 fits\n"
     ]
    },
    {
     "name": "stderr",
     "output_type": "stream",
     "text": [
      "[Parallel(n_jobs=-1)]: Using backend LokyBackend with 4 concurrent workers.\n",
      "[Parallel(n_jobs=-1)]: Done  71 tasks      | elapsed:   12.1s\n",
      "[Parallel(n_jobs=-1)]: Done 120 out of 120 | elapsed:   40.5s finished\n"
     ]
    },
    {
     "data": {
      "text/plain": [
       "GridSearchCV(cv=5, estimator=LogisticRegression(random_state=0), n_jobs=-1,\n",
       "             param_grid={'max_iter': [100, 250, 500, 1000],\n",
       "                         'penalty': ['l1', 'l2', 'none'],\n",
       "                         'solver': ['liblinear', 'saga']},\n",
       "             verbose=1)"
      ]
     },
     "execution_count": 25,
     "metadata": {},
     "output_type": "execute_result"
    }
   ],
   "source": [
    "lr_params = {\n",
    "    'penalty':['l1','l2','none'],\n",
    "    'solver':['liblinear', 'saga'],\n",
    "    'max_iter':[100,250,500,1000]\n",
    "}\n",
    "\n",
    "lr = GridSearchCV(LogisticRegression(random_state=rs),\n",
    "                  param_grid=lr_params,\n",
    "                  verbose = 1,\n",
    "                  n_jobs = -1,\n",
    "                  cv=5) # 5-fold cross-validation.\n",
    "\n",
    "lr.fit(X_train_v,y_train)"
   ]
  },
  {
   "cell_type": "code",
   "execution_count": 26,
   "metadata": {},
   "outputs": [
    {
     "name": "stdout",
     "output_type": "stream",
     "text": [
      "Training Score: 0.9949610627576729\n",
      "Testing Score: 0.7760989010989011\n",
      "\n",
      "\n",
      "              precision    recall  f1-score   support\n",
      "\n",
      "           0       0.82      0.70      0.76       360\n",
      "           1       0.74      0.85      0.79       368\n",
      "\n",
      "    accuracy                           0.78       728\n",
      "   macro avg       0.78      0.78      0.77       728\n",
      "weighted avg       0.78      0.78      0.77       728\n",
      "\n"
     ]
    },
    {
     "data": {
      "image/png": "[encoded data removed]",
      "text/plain": [
       "<Figure size 432x288 with 2 Axes>"
      ]
     },
     "metadata": {
      "needs_background": "light"
     },
     "output_type": "display_data"
    }
   ],
   "source": [
    "scorer(lr)"
   ]
  },
  {
   "cell_type": "code",
   "execution_count": 27,
   "metadata": {},
   "outputs": [
    {
     "data": {
      "text/html": [
       "<div>\n",
       "<style scoped>\n",
       "    .dataframe tbody tr th:only-of-type {\n",
       "        vertical-align: middle;\n",
       "    }\n",
       "\n",
       "    .dataframe tbody tr th {\n",
       "        vertical-align: top;\n",
       "    }\n",
       "\n",
       "    .dataframe thead th {\n",
       "        text-align: right;\n",
       "    }\n",
       "</style>\n",
       "<table border=\"1\" class=\"dataframe\">\n",
       "  <thead>\n",
       "    <tr style=\"text-align: right;\">\n",
       "      <th></th>\n",
       "      <th>feature</th>\n",
       "      <th>feature_importance</th>\n",
       "    </tr>\n",
       "  </thead>\n",
       "  <tbody>\n",
       "    <tr>\n",
       "      <th>2128</th>\n",
       "      <td>clothes</td>\n",
       "      <td>1.040767</td>\n",
       "    </tr>\n",
       "    <tr>\n",
       "      <th>5810</th>\n",
       "      <td>instead</td>\n",
       "      <td>1.015412</td>\n",
       "    </tr>\n",
       "    <tr>\n",
       "      <th>4067</th>\n",
       "      <td>facebook</td>\n",
       "      <td>1.005471</td>\n",
       "    </tr>\n",
       "    <tr>\n",
       "      <th>8099</th>\n",
       "      <td>open source</td>\n",
       "      <td>0.960027</td>\n",
       "    </tr>\n",
       "    <tr>\n",
       "      <th>6042</th>\n",
       "      <td>job</td>\n",
       "      <td>0.893182</td>\n",
       "    </tr>\n",
       "    <tr>\n",
       "      <th>1021</th>\n",
       "      <td>assume</td>\n",
       "      <td>0.860672</td>\n",
       "    </tr>\n",
       "    <tr>\n",
       "      <th>7816</th>\n",
       "      <td>new</td>\n",
       "      <td>0.830732</td>\n",
       "    </tr>\n",
       "    <tr>\n",
       "      <th>4627</th>\n",
       "      <td>future</td>\n",
       "      <td>0.798746</td>\n",
       "    </tr>\n",
       "    <tr>\n",
       "      <th>1234</th>\n",
       "      <td>bed</td>\n",
       "      <td>0.793615</td>\n",
       "    </tr>\n",
       "    <tr>\n",
       "      <th>12975</th>\n",
       "      <td>watching</td>\n",
       "      <td>0.762148</td>\n",
       "    </tr>\n",
       "  </tbody>\n",
       "</table>\n",
       "</div>"
      ],
      "text/plain": [
       "           feature  feature_importance\n",
       "2128       clothes            1.040767\n",
       "5810       instead            1.015412\n",
       "4067      facebook            1.005471\n",
       "8099   open source            0.960027\n",
       "6042           job            0.893182\n",
       "1021        assume            0.860672\n",
       "7816           new            0.830732\n",
       "4627        future            0.798746\n",
       "1234           bed            0.793615\n",
       "12975     watching            0.762148"
      ]
     },
     "execution_count": 27,
     "metadata": {},
     "output_type": "execute_result"
    }
   ],
   "source": [
    "lr_unpack = [val for sublist in lr.best_estimator_.coef_ for val in sublist]\n",
    "lr_importance = zip(fname, lr_unpack)\n",
    "lr_df = pd.DataFrame(lr_importance,columns=['feature','feature_importance'])\n",
    "lr_df.sort_values(\"feature_importance\",ascending=False).head(10)"
   ]
  },
  {
   "cell_type": "code",
   "execution_count": 28,
   "metadata": {},
   "outputs": [],
   "source": [
    "save(lr,\"lr\")"
   ]
  },
  {
   "cell_type": "markdown",
   "metadata": {},
   "source": [
    "### Naive Bayes"
   ]
  },
  {
   "cell_type": "code",
   "execution_count": 29,
   "metadata": {},
   "outputs": [
    {
     "name": "stdout",
     "output_type": "stream",
     "text": [
      "Fitting 5 folds for each of 200 candidates, totalling 1000 fits\n"
     ]
    },
    {
     "name": "stderr",
     "output_type": "stream",
     "text": [
      "[Parallel(n_jobs=-1)]: Using backend LokyBackend with 4 concurrent workers.\n",
      "[Parallel(n_jobs=-1)]: Done 312 tasks      | elapsed:    0.4s\n",
      "[Parallel(n_jobs=-1)]: Done 1000 out of 1000 | elapsed:    1.2s finished\n"
     ]
    },
    {
     "data": {
      "text/plain": [
       "GridSearchCV(cv=5, estimator=MultinomialNB(), n_jobs=-1,\n",
       "             param_grid={'alpha': array([0.  , 0.01, 0.02, 0.03, 0.04, 0.05, 0.06, 0.07, 0.08, 0.09, 0.1 ,\n",
       "       0.11, 0.12, 0.13, 0.14, 0.15, 0.16, 0.17, 0.18, 0.19, 0.2 , 0.21,\n",
       "       0.22, 0.23, 0.24, 0.25, 0.26, 0.27, 0.28, 0.29, 0.3 , 0.31, 0.32,\n",
       "       0.33, 0.34, 0.35, 0.36, 0.37, 0.38, 0.39, 0.4 , 0.41, 0.42, 0.43,\n",
       "       0.44, 0.45, 0.46, 0.47, 0.48, 0.49, 0.5 , 0.51, 0.52, 0.53, 0.54,\n",
       "       0.55, 0.56, 0.57, 0.58, 0.59, 0.6 , 0.61, 0.62, 0.63, 0.64, 0.65,\n",
       "       0.66, 0.67, 0.68, 0.69, 0.7 , 0.71, 0.72, 0.73, 0.74, 0.75, 0.76,\n",
       "       0.77, 0.78, 0.79, 0.8 , 0.81, 0.82, 0.83, 0.84, 0.85, 0.86, 0.87,\n",
       "       0.88, 0.89, 0.9 , 0.91, 0.92, 0.93, 0.94, 0.95, 0.96, 0.97, 0.98,\n",
       "       0.99]),\n",
       "                         'fit_prior': [True, False]},\n",
       "             verbose=1)"
      ]
     },
     "execution_count": 29,
     "metadata": {},
     "output_type": "execute_result"
    }
   ],
   "source": [
    "nb_params = {\n",
    "    'alpha':np.arange(0,1,0.01),\n",
    "    'fit_prior':[True,False]\n",
    "}\n",
    "\n",
    "nb = GridSearchCV(MultinomialNB(),\n",
    "                  param_grid=nb_params,\n",
    "                  verbose = 1,\n",
    "                  n_jobs = -1,\n",
    "                  cv=5) # 5-fold cross-validation.\n",
    "\n",
    "nb.fit(X_train_v,y_train)"
   ]
  },
  {
   "cell_type": "code",
   "execution_count": 30,
   "metadata": {},
   "outputs": [
    {
     "name": "stdout",
     "output_type": "stream",
     "text": [
      "Training Score: 0.9473202015574896\n",
      "Testing Score: 0.7541208791208791\n",
      "\n",
      "\n",
      "              precision    recall  f1-score   support\n",
      "\n",
      "           0       0.75      0.76      0.75       360\n",
      "           1       0.76      0.75      0.75       368\n",
      "\n",
      "    accuracy                           0.75       728\n",
      "   macro avg       0.75      0.75      0.75       728\n",
      "weighted avg       0.75      0.75      0.75       728\n",
      "\n"
     ]
    },
    {
     "data": {
      "image/png": "[encoded data removed]",
      "text/plain": [
       "<Figure size 432x288 with 2 Axes>"
      ]
     },
     "metadata": {
      "needs_background": "light"
     },
     "output_type": "display_data"
    }
   ],
   "source": [
    "scorer(nb)"
   ]
  },
  {
   "cell_type": "code",
   "execution_count": 31,
   "metadata": {},
   "outputs": [
    {
     "data": {
      "text/html": [
       "<div>\n",
       "<style scoped>\n",
       "    .dataframe tbody tr th:only-of-type {\n",
       "        vertical-align: middle;\n",
       "    }\n",
       "\n",
       "    .dataframe tbody tr th {\n",
       "        vertical-align: top;\n",
       "    }\n",
       "\n",
       "    .dataframe thead th {\n",
       "        text-align: right;\n",
       "    }\n",
       "</style>\n",
       "<table border=\"1\" class=\"dataframe\">\n",
       "  <thead>\n",
       "    <tr style=\"text-align: right;\">\n",
       "      <th></th>\n",
       "      <th>feature</th>\n",
       "      <th>feature_importance</th>\n",
       "    </tr>\n",
       "  </thead>\n",
       "  <tbody>\n",
       "    <tr>\n",
       "      <th>6084</th>\n",
       "      <td>just</td>\n",
       "      <td>-4.787660</td>\n",
       "    </tr>\n",
       "    <tr>\n",
       "      <th>8423</th>\n",
       "      <td>people</td>\n",
       "      <td>-4.806275</td>\n",
       "    </tr>\n",
       "    <tr>\n",
       "      <th>11966</th>\n",
       "      <td>time</td>\n",
       "      <td>-5.052118</td>\n",
       "    </tr>\n",
       "    <tr>\n",
       "      <th>7034</th>\n",
       "      <td>make</td>\n",
       "      <td>-5.096327</td>\n",
       "    </tr>\n",
       "    <tr>\n",
       "      <th>6645</th>\n",
       "      <td>like</td>\n",
       "      <td>-5.142582</td>\n",
       "    </tr>\n",
       "    <tr>\n",
       "      <th>6280</th>\n",
       "      <td>know</td>\n",
       "      <td>-5.405825</td>\n",
       "    </tr>\n",
       "    <tr>\n",
       "      <th>7728</th>\n",
       "      <td>need</td>\n",
       "      <td>-5.484096</td>\n",
       "    </tr>\n",
       "    <tr>\n",
       "      <th>13030</th>\n",
       "      <td>way</td>\n",
       "      <td>-5.506550</td>\n",
       "    </tr>\n",
       "    <tr>\n",
       "      <th>12878</th>\n",
       "      <td>want</td>\n",
       "      <td>-5.537296</td>\n",
       "    </tr>\n",
       "    <tr>\n",
       "      <th>12539</th>\n",
       "      <td>use</td>\n",
       "      <td>-5.560991</td>\n",
       "    </tr>\n",
       "  </tbody>\n",
       "</table>\n",
       "</div>"
      ],
      "text/plain": [
       "      feature  feature_importance\n",
       "6084     just           -4.787660\n",
       "8423   people           -4.806275\n",
       "11966    time           -5.052118\n",
       "7034     make           -5.096327\n",
       "6645     like           -5.142582\n",
       "6280     know           -5.405825\n",
       "7728     need           -5.484096\n",
       "13030     way           -5.506550\n",
       "12878    want           -5.537296\n",
       "12539     use           -5.560991"
      ]
     },
     "execution_count": 31,
     "metadata": {},
     "output_type": "execute_result"
    }
   ],
   "source": [
    "nb_unpack = [val for sublist in nb.best_estimator_.coef_ for val in sublist]\n",
    "nb_importance = zip(fname, nb_unpack)\n",
    "nb_df = pd.DataFrame(nb_importance,columns=['feature','feature_importance'])\n",
    "nb_df.sort_values(\"feature_importance\",ascending=False).head(10)"
   ]
  },
  {
   "cell_type": "code",
   "execution_count": 32,
   "metadata": {},
   "outputs": [],
   "source": [
    "save(nb,\"nb\")"
   ]
  },
  {
   "cell_type": "markdown",
   "metadata": {},
   "source": [
    "### Stacking Classifier\n",
    "\n",
    "Most of the models thus far performs rather similarly at an average accuracy of around 77%. We well see if we can stack these up and obtain better results."
   ]
  },
  {
   "cell_type": "code",
   "execution_count": 33,
   "metadata": {
    "scrolled": false
   },
   "outputs": [
    {
     "name": "stdout",
     "output_type": "stream",
     "text": [
      "\n",
      "RandomForest\n",
      " {'criterion': 'gini', 'max_features': 'log2', 'n_estimators': 1000}\n",
      "\n",
      "BoostedTrees\n",
      " {'n_estimators': 250}\n",
      "\n",
      "LogisticRegression\n",
      " {'max_iter': 100, 'penalty': 'l2', 'solver': 'liblinear'}\n",
      "\n",
      "NaiveBayes\n",
      " {'alpha': 0.11, 'fit_prior': True}\n"
     ]
    }
   ],
   "source": [
    "print(\"\\nRandomForest\\n\",rf.best_params_)\n",
    "print(\"\\nBoostedTrees\\n\",bs.best_params_)\n",
    "print(\"\\nLogisticRegression\\n\",lr.best_params_)\n",
    "print(\"\\nNaiveBayes\\n\",nb.best_params_)"
   ]
  },
  {
   "cell_type": "code",
   "execution_count": 34,
   "metadata": {},
   "outputs": [],
   "source": [
    "# Reinstantiating models with best parameters to speed up process without gridsearch\n",
    "\n",
    "# Random Forest Model for Stacking\n",
    "prf = RandomForestClassifier(criterion=rf.best_params_['criterion'],\n",
    "                                random_state=rs,\n",
    "                                max_features=rf.best_params_['max_features'],\n",
    "                                n_estimators=rf.best_params_['n_estimators'])\n",
    "# Boosted Tree Model for Stacking\n",
    "pbs = AdaBoostClassifier(random_state=rs,\n",
    "                             n_estimators=bs.best_params_['n_estimators'])\n",
    "\n",
    "# Logistic Regression Model for Stacking\n",
    "plr = LogisticRegression(max_iter=lr.best_params_['max_iter'],\n",
    "                             penalty=lr.best_params_['penalty'],\n",
    "                            solver=lr.best_params_['solver'])\n",
    "\n",
    "# Multinomial Naive Bayes Model for Stacking\n",
    "pnb = MultinomialNB(alpha=nb.best_params_['alpha'],\n",
    "                        fit_prior=nb.best_params_['fit_prior'])"
   ]
  },
  {
   "cell_type": "code",
   "execution_count": null,
   "metadata": {
    "scrolled": true
   },
   "outputs": [
    {
     "name": "stdout",
     "output_type": "stream",
     "text": [
      "Fitting 5 folds for each of 5 candidates, totalling 25 fits\n"
     ]
    },
    {
     "name": "stderr",
     "output_type": "stream",
     "text": [
      "[Parallel(n_jobs=-1)]: Using backend LokyBackend with 4 concurrent workers.\n"
     ]
    }
   ],
   "source": [
    "estimators = [\n",
    "    ('rf',prf),\n",
    "    ('bs',pbs),\n",
    "    ('lr',plr),\n",
    "    ('nb',pnb)\n",
    "]\n",
    "\n",
    "sm_params = {\n",
    "    'final_estimator':[RandomForestClassifier(),LogisticRegression(),rf,MultinomialNB(),nb]\n",
    "}\n",
    "\n",
    "stackmodel = StackingClassifier(estimators=estimators,\n",
    "                                cv=5,\n",
    "                                verbose=1,\n",
    "                                n_jobs=-1)\n",
    "\n",
    "sm = GridSearchCV(stackmodel,\n",
    "                  param_grid=sm_params,\n",
    "                  verbose = 1,\n",
    "                  n_jobs = -1,\n",
    "                  cv=5) # 5-fold cross-validation.\n",
    "\n",
    "sm.fit(X_train_v,y_train)"
   ]
  },
  {
   "cell_type": "code",
   "execution_count": null,
   "metadata": {},
   "outputs": [],
   "source": [
    "scorer(sm)"
   ]
  },
  {
   "cell_type": "code",
   "execution_count": null,
   "metadata": {},
   "outputs": [],
   "source": [
    "save(sm,\"sm\")"
   ]
  },
  {
   "cell_type": "code",
   "execution_count": null,
   "metadata": {},
   "outputs": [],
   "source": [
    "sm_unpack = [val for sublist in sm.best_estimator_.final_estimator_.coef_ for val in sublist]\n",
    "sm_importance = zip(['Random Forest','Boosted Trees','Logistic Regression','Multinomial Naive Bayes'], sm_unpack)\n",
    "sm_df = pd.DataFrame(sm_importance,columns=['estimator','estimator_score'])\n",
    "sm_df.sort_values(\"estimator_score\",ascending=False).head(20)"
   ]
  },
  {
   "cell_type": "markdown",
   "metadata": {},
   "source": [
    "We will proceed to analyze the results on the next notebook <a href=\"./Summary.ipynb\">here</a>."
   ]
  }
 ],
 "metadata": {
  "kernelspec": {
   "display_name": "Python 3",
   "language": "python",
   "name": "python3"
  },
  "language_info": {
   "codemirror_mode": {
    "name": "ipython",
    "version": 3
   },
   "file_extension": ".py",
   "mimetype": "text/x-python",
   "name": "python",
   "nbconvert_exporter": "python",
   "pygments_lexer": "ipython3",
   "version": "3.8.5"
  }
 },
 "nbformat": 4,
 "nbformat_minor": 4
}
